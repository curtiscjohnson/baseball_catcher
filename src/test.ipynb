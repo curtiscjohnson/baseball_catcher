{
 "cells": [
  {
   "cell_type": "markdown",
   "metadata": {},
   "source": []
  },
  {
   "cell_type": "code",
   "execution_count": null,
   "metadata": {},
   "outputs": [],
   "source": [
    "import numpy as np"
   ]
  },
  {
   "cell_type": "code",
   "execution_count": 7,
   "metadata": {},
   "outputs": [],
   "source": [
    "# parameters1\n",
    "undistortRectifyMapLx1 = np.load(\"../calibration_params/undistortRectifyMapLx.npy\")\n",
    "undistortRectifyMapLy1 = np.load(\"../calibration_params/undistortRectifyMapLy.npy\")\n",
    "undistortRectifyMapRx1 = np.load(\"../calibration_params/undistortRectifyMapRx.npy\")\n",
    "undistortRectifyMapRy1 = np.load(\"../calibration_params/undistortRectifyMapRy.npy\")\n",
    "Q1 = np.load(\"../calibration_params/Q.npy\")"
   ]
  },
  {
   "cell_type": "code",
   "execution_count": 8,
   "metadata": {},
   "outputs": [],
   "source": [
    "# parameters 2\n",
    "undistortRectifyMapLx2 = np.load(\"../calibration_params2/undistortRectifyMapLx.npy\")\n",
    "undistortRectifyMapLy2 = np.load(\"../calibration_params2/undistortRectifyMapLy.npy\")\n",
    "undistortRectifyMapRx2 = np.load(\"../calibration_params2/undistortRectifyMapRx.npy\")\n",
    "undistortRectifyMapRy2 = np.load(\"../calibration_params2/undistortRectifyMapRy.npy\")\n",
    "Q2 = np.load(\"../calibration_params2/Q.npy\")"
   ]
  },
  {
   "cell_type": "code",
   "execution_count": 10,
   "metadata": {},
   "outputs": [
    {
     "name": "stdout",
     "output_type": "stream",
     "text": [
      "[[ 17.051645  17.958778  18.866354 ... 631.4      632.3484   633.2964  ]\n",
      " [ 17.01811   17.925367  18.833065 ... 631.42395  632.3725   633.3207  ]\n",
      " [ 16.984722  17.892101  18.799921 ... 631.4478   632.3965   633.3448  ]\n",
      " ...\n",
      " [ 13.852317  14.761869  15.671844 ... 629.172    630.12396  631.07556 ]\n",
      " [ 13.8718    14.78125   15.69112  ... 629.13995  630.0918   631.0433  ]\n",
      " [ 13.891414  14.800759  15.710526 ... 629.1078   630.05945  631.01086 ]]\n",
      "\n",
      "[[  8.197422    9.1549225  10.112639  ... 619.39124   620.2932\n",
      "  621.1948   ]\n",
      " [  8.170583    9.128169   10.085972  ... 619.41364   620.3157\n",
      "  621.21735  ]\n",
      " [  8.143852    9.101525   10.059413  ... 619.436     620.3381\n",
      "  621.2398   ]\n",
      " ...\n",
      " [  7.972156    8.93233     9.892726  ... 620.91125   621.81555\n",
      "  622.7195   ]\n",
      " [  7.9983664   8.958463    9.91878   ... 620.89496   621.7992\n",
      "  622.70306  ]\n",
      " [  8.024691    8.984709    9.944948  ... 620.8786    621.7828\n",
      "  622.68665  ]]\n"
     ]
    }
   ],
   "source": [
    "# compare \n",
    "print(undistortRectifyMapLx1)\n",
    "print()\n",
    "print(undistortRectifyMapLx2)"
   ]
  },
  {
   "cell_type": "code",
   "execution_count": 11,
   "metadata": {},
   "outputs": [
    {
     "name": "stdout",
     "output_type": "stream",
     "text": [
      "[[  8.851509    8.819896    8.788408  ...   7.1542      7.1826944\n",
      "    7.2113433]\n",
      " [  9.785445    9.754007    9.722695  ...   8.108625    8.1369915\n",
      "    8.16551  ]\n",
      " [ 10.719672   10.68841    10.657272  ...   9.06337     9.091607\n",
      "    9.119997 ]\n",
      " ...\n",
      " [465.45148   465.48822   465.5249    ... 474.32764   474.3162\n",
      "  474.3046   ]\n",
      " [466.3927    466.42963   466.46643   ... 475.28928   475.27774\n",
      "  475.26605  ]\n",
      " [467.33368   467.37076   467.40775   ... 476.25067   476.239\n",
      "  476.2272   ]]\n",
      "\n",
      "[[  3.944776    3.9321587   3.9196246 ...  10.950777   10.982852\n",
      "   11.014982 ]\n",
      " [  4.907915    4.8953485   4.882865  ...  11.8833885  11.915331\n",
      "   11.947327 ]\n",
      " [  5.871293    5.858777    5.846344  ...  12.816212   12.848021\n",
      "   12.879883 ]\n",
      " ...\n",
      " [473.3388    473.34918   473.35947   ... 464.7493    464.71475\n",
      "  464.68018  ]\n",
      " [474.30725   474.3177    474.32803   ... 465.68704   465.65237\n",
      "  465.61765  ]\n",
      " [475.27548   475.28598   475.2964    ... 466.6246    466.58978\n",
      "  466.55493  ]]\n"
     ]
    }
   ],
   "source": [
    "print(undistortRectifyMapLy1)\n",
    "print()\n",
    "print(undistortRectifyMapLy2)"
   ]
  },
  {
   "cell_type": "code",
   "execution_count": 12,
   "metadata": {},
   "outputs": [
    {
     "name": "stdout",
     "output_type": "stream",
     "text": [
      "[[ 1.00000000e+00  0.00000000e+00  0.00000000e+00 -4.25815582e+02]\n",
      " [ 0.00000000e+00  1.00000000e+00  0.00000000e+00 -2.41543482e+02]\n",
      " [ 0.00000000e+00  0.00000000e+00  0.00000000e+00  1.71010551e+03]\n",
      " [ 0.00000000e+00  0.00000000e+00  4.91671720e-02 -0.00000000e+00]]\n",
      "\n",
      "[[ 1.00000000e+00  0.00000000e+00  0.00000000e+00 -1.53151461e+02]\n",
      " [ 0.00000000e+00  1.00000000e+00  0.00000000e+00 -2.43174231e+02]\n",
      " [ 0.00000000e+00  0.00000000e+00  0.00000000e+00  1.68744797e+03]\n",
      " [ 0.00000000e+00  0.00000000e+00  4.89482761e-02 -0.00000000e+00]]\n"
     ]
    }
   ],
   "source": [
    "print(Q1)\n",
    "print()\n",
    "print(Q2)"
   ]
  }
 ],
 "metadata": {
  "kernelspec": {
   "display_name": "Python 3",
   "language": "python",
   "name": "python3"
  },
  "language_info": {
   "codemirror_mode": {
    "name": "ipython",
    "version": 3
   },
   "file_extension": ".py",
   "mimetype": "text/x-python",
   "name": "python",
   "nbconvert_exporter": "python",
   "pygments_lexer": "ipython3",
   "version": "3.8.10"
  }
 },
 "nbformat": 4,
 "nbformat_minor": 2
}
