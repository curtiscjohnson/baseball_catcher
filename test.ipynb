{
 "cells": [
  {
   "cell_type": "code",
   "execution_count": 2,
   "metadata": {},
   "outputs": [],
   "source": [
    "import numpy as np\n",
    "import cv2 as cv"
   ]
  },
  {
   "cell_type": "code",
   "execution_count": 3,
   "metadata": {},
   "outputs": [],
   "source": [
    "path1 = \"calibration/calibration_params2\"\n",
    "\n",
    "Q = np.load(path1 + \"/Q.npy\")\n",
    "E = np.load(path1 + \"/E.npy\")\n",
    "F = np.load(path1 + \"/F.npy\")\n",
    "R = np.load(path1 + \"/R.npy\")\n",
    "T = np.load(path1 + \"/T.npy\")"
   ]
  },
  {
   "cell_type": "code",
   "execution_count": 5,
   "metadata": {},
   "outputs": [
    {
     "name": "stdout",
     "output_type": "stream",
     "text": [
      "[[-2.03023022e+01]\n",
      " [ 7.63880020e-03]\n",
      " [-2.27821902e+00]]\n"
     ]
    }
   ],
   "source": [
    "print(T)"
   ]
  },
  {
   "cell_type": "code",
   "execution_count": 4,
   "metadata": {},
   "outputs": [
    {
     "name": "stdout",
     "output_type": "stream",
     "text": [
      "[[ 1.00000000e+00  0.00000000e+00  0.00000000e+00 -1.53151461e+02]\n",
      " [ 0.00000000e+00  1.00000000e+00  0.00000000e+00 -2.43174231e+02]\n",
      " [ 0.00000000e+00  0.00000000e+00  0.00000000e+00  1.68744797e+03]\n",
      " [ 0.00000000e+00  0.00000000e+00  4.89482761e-02 -0.00000000e+00]]\n"
     ]
    }
   ],
   "source": [
    "print(Q)"
   ]
  }
 ],
 "metadata": {
  "kernelspec": {
   "display_name": "Python 3",
   "language": "python",
   "name": "python3"
  },
  "language_info": {
   "codemirror_mode": {
    "name": "ipython",
    "version": 3
   },
   "file_extension": ".py",
   "mimetype": "text/x-python",
   "name": "python",
   "nbconvert_exporter": "python",
   "pygments_lexer": "ipython3",
   "version": "3.8.10"
  }
 },
 "nbformat": 4,
 "nbformat_minor": 2
}
